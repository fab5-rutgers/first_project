{
 "cells": [
  {
   "cell_type": "code",
   "execution_count": null,
   "metadata": {},
   "outputs": [],
   "source": [
    "%matplotlib inline\n",
    "# Dependencies and Setup\n",
    "import matplotlib.pyplot as plt\n",
    "import pandas as pd\n",
    "import numpy as np\n",
    "from pylab import *\n",
    "\n",
    "teacher_sal = \"nj_teachers_salaries_2016.csv\"\n",
    "teacher_sal = pd.read_csv(teacher_sal)\n",
    "#teacher_sal_df = pd.read_csv(teacher_sal).reset_index()\n",
    "teacher_sal"
   ]
  },
  {
   "cell_type": "code",
   "execution_count": null,
   "metadata": {},
   "outputs": [],
   "source": []
  },
  {
   "cell_type": "code",
   "execution_count": null,
   "metadata": {},
   "outputs": [],
   "source": [
    "cleaned_teacher_sal =teacher_sal[[\n",
    "    \"district\",\"salary\",\"experience_district\",\n",
    "    ]].copy()\n",
    "#To get the first part of the district name\n",
    "cleaned_teacher_sal[\"district\"] = cleaned_teacher_sal[\"district\"].apply(lambda x: x.split()[0])\n",
    "\n",
    "final_data=cleaned_teacher_sal[(cleaned_teacher_sal[\"district\"].isin([\"Princeton\",\"Summit\",\"Bridgeton\",\"Clifton\",\"Hoboken\"]))] \n",
    "final_data =final_data.rename(columns={\"district\": \"City\"})\n",
    "final_data =final_data.rename(columns={\"experience_district\": \"Experience\"})\n",
    "final_data =final_data.rename(columns={\"salary\": \"Salary\"})\n",
    "final_data\n"
   ]
  },
  {
   "cell_type": "code",
   "execution_count": null,
   "metadata": {},
   "outputs": [],
   "source": [
    "final_data[\"City\"]=final_data[\"City\"].apply(lambda x: x.upper())\n",
    "final_data"
   ]
  },
  {
   "cell_type": "code",
   "execution_count": null,
   "metadata": {
    "scrolled": true
   },
   "outputs": [],
   "source": [
    "# File to Load (Remember to change these)\n",
    "graduation_data = \"graduation_data.csv\"\n",
    "\n",
    "# Read the City and Ride Data\n",
    "graduation_data = pd.read_csv(graduation_data)\n",
    "#teacher_sal = pd.read_csv(teacher_sal)\n",
    "\n",
    "# Combine the data into a single dataset\n",
    "combined_teachergrad_data = pd.merge(final_data,graduation_data,how='left',on='City')\n",
    "combined_teachergrad_data\n"
   ]
  },
  {
   "cell_type": "code",
   "execution_count": null,
   "metadata": {},
   "outputs": [],
   "source": [
    "# Tell matplotlib to create a scatter plot based upon the above data\n",
    "combined_teachergrad_data.plot.scatter(x=\"Experience\", y=\"GRAD_RATE\")\n",
    "#plt.scatter(\"Experience\", \"GRAD_RATE\")\n",
    "\n",
    "# # Set the upper and lower limits of our y axis\n",
    "# plt.ylim(,)\n",
    "# # Set the upper and lower limits of our x axis\n",
    "# plt.xlim(,)\n",
    "\n",
    "# Create a title, x label, and y label for our chart\n",
    "plt.title(\"Graduation Rate v Teacher's Experience\")\n",
    "plt.xlabel(\"Teacher's Experience\")\n",
    "plt.ylabel(\"Graduation Rate\")\n",
    "\n",
    "\n",
    "\n",
    "# Save an image of the chart and print it to the screen\n",
    "#plt.savefig(\"gradrate_teachexp.png\")\n",
    "\n",
    "\n"
   ]
  },
  {
   "cell_type": "code",
   "execution_count": null,
   "metadata": {},
   "outputs": [],
   "source": [
    "fig = plt.figure(figsize=(20, 10))\n",
    "\n",
    "ax = fig.add_subplot(111)\n",
    "ax.set_ylabel(\"GRAD_RATE\")\n",
    "\n",
    "ax2 = ax.twinx()\n",
    "ax2.set_ylabel(\"Salary\")\n",
    "#combined_teachergrad_data.GRAD_RATE.plot(kind=\"bar\", ax=ax, position=.2, color='purple', legend=True)\n",
    "#pop_grad_sal_df.Admin_mean_salary.plot(kind=\"bar\", ax=ax, position=.2, color='purple', legend=True)\n",
    "#pop_grad_sal_df.Super_mean_salary.plot(kind=\"bar\", ax=ax, position=.4, color='orange', legend=True)\n",
    "#combined_teachergrad_data.Salary.plot(kind=\"bar\", ax=ax2, position=.4, color='orange', legend=True)\n",
    "ax.set_title(\"Graduation Rate v Teacher's Experience\")"
   ]
  }
 ],
 "metadata": {
  "anaconda-cloud": {},
  "kernelspec": {
   "display_name": "Python 3",
   "language": "python",
   "name": "python3"
  },
  "language_info": {
   "codemirror_mode": {
    "name": "ipython",
    "version": 3
   },
   "file_extension": ".py",
   "mimetype": "text/x-python",
   "name": "python",
   "nbconvert_exporter": "python",
   "pygments_lexer": "ipython3",
   "version": "3.7.0"
  }
 },
 "nbformat": 4,
 "nbformat_minor": 2
}
