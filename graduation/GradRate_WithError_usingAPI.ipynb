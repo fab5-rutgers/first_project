{
 "cells": [
  {
   "cell_type": "code",
   "execution_count": 4,
   "metadata": {},
   "outputs": [
    {
     "ename": "ModuleNotFoundError",
     "evalue": "No module named 'config'",
     "output_type": "error",
     "traceback": [
      "\u001b[0;31m---------------------------------------------------------------------------\u001b[0m",
      "\u001b[0;31mModuleNotFoundError\u001b[0m                       Traceback (most recent call last)",
      "\u001b[0;32m<ipython-input-4-b793da547196>\u001b[0m in \u001b[0;36m<module>\u001b[0;34m()\u001b[0m\n\u001b[1;32m      9\u001b[0m \u001b[0;34m\u001b[0m\u001b[0m\n\u001b[1;32m     10\u001b[0m \u001b[0;31m# Census & gmaps API Keys\u001b[0m\u001b[0;34m\u001b[0m\u001b[0;34m\u001b[0m\u001b[0m\n\u001b[0;32m---> 11\u001b[0;31m \u001b[0;32mfrom\u001b[0m \u001b[0mconfig\u001b[0m \u001b[0;32mimport\u001b[0m \u001b[0mapi_key\u001b[0m\u001b[0;34m\u001b[0m\u001b[0m\n\u001b[0m\u001b[1;32m     12\u001b[0m \u001b[0mc\u001b[0m \u001b[0;34m=\u001b[0m \u001b[0mCensus\u001b[0m\u001b[0;34m(\u001b[0m\u001b[0mapi_key\u001b[0m\u001b[0;34m,\u001b[0m \u001b[0myear\u001b[0m\u001b[0;34m=\u001b[0m\u001b[0;36m2016\u001b[0m\u001b[0;34m)\u001b[0m\u001b[0;34m\u001b[0m\u001b[0m\n",
      "\u001b[0;31mModuleNotFoundError\u001b[0m: No module named 'config'"
     ]
    }
   ],
   "source": [
    "\n",
    "import numpy as np\n",
    "import pandas as pd\n",
    "import matplotlib.pyplot as plt\n",
    "import requests\n",
    "from census import Census\n",
    "import json\n",
    "from pprint import pprint\n",
    "\n",
    "# Census & gmaps API Keys\n",
    "from config import api_key\n",
    "c = Census(api_key, year=2016)\n",
    "\n"
   ]
  },
  {
   "cell_type": "code",
   "execution_count": null,
   "metadata": {},
   "outputs": [],
   "source": [
    "# #calling api for princeton\n",
    "# url1=\"https://api.census.gov/data/2016/acs/acs5?get=B01001_001E,B01001A_001E,B01001B_001E,B01001C_001E,B01001D_001E,NAME&for=county%20subdivision:*&in=state:34&in=county:021&key=21f70f51e666e00bb3598a0258e79684470f9ae1\"\n",
    "# response=requests.get(url1)\n",
    "# mercercountydata=response.json()\n",
    "# # Creating a dataframe\n",
    "# mercer_df = pd.DataFrame(columns=mercercountydata[0],data=mercercountydata[1:])\n",
    "# #Renaming columns\n",
    "# mercer_df=mercer_df.rename(columns={\"B01001_001E\":\"Total Population\",\n",
    "#                                     \"B01001A_001E\":\"White Alone\",\n",
    "#                                     \"B01001B_001E\":\"African American Alone\",\n",
    "#                                     \"B01001D_001E\":\"Asian Alone\",\n",
    "#                                     \"B01001C_001E\":\"Some Other Race\",\"NAME\":\"Name\"})\n",
    "\n",
    "# #To get the first part of the Name column\n",
    "# mercer_df[\"Name\"] = mercer_df[\"Name\"].apply(lambda x: x.split()[0].replace(',', '').upper())\n",
    "# #To get the Princeton row\n",
    "# princeton_data = mercer_df[mercer_df[\"Name\"].isin([\"PRINCETON\"])]\n",
    "\n",
    "# princeton_data\n",
    "\n",
    "\n"
   ]
  },
  {
   "cell_type": "code",
   "execution_count": null,
   "metadata": {},
   "outputs": [],
   "source": [
    "# #calling api for summit\n",
    "# url2=\"https://api.census.gov/data/2016/acs/acs5?get=B01001_001E,B01001A_001E,B01001B_001E,B01001C_001E,B01001D_001E,NAME&for=county%20subdivision:*&in=state:34&in=county:039&key=21f70f51e666e00bb3598a0258e79684470f9ae1\"\n",
    "# response=requests.get(url2)\n",
    "# unioncountydata=response.json()\n",
    "# # Creating a dataframe\n",
    "# #union_df=pd.DataFrame(unioncountydata)\n",
    "# union_df = pd.DataFrame(columns=unioncountydata[0],data=unioncountydata[1:])\n",
    "\n",
    "# #Renaming columns\n",
    "# union_df=union_df.rename(columns={\"B01001_001E\":\"Total Population\",\n",
    "#                                     \"B01001A_001E\":\"White Alone\",\n",
    "#                                     \"B01001B_001E\":\"African American Alone\",\n",
    "#                                     \"B01001D_001E\":\"Asian Alone\",\n",
    "#                                     \"B01001C_001E\":\"Some Other Race\",\"NAME\":\"Name\"})\n",
    "# #To get the first part of the Name column\n",
    "# union_df[\"Name\"] = union_df[\"Name\"].apply(lambda x: x.split()[0].upper())\n",
    "# #To get the Summit row\n",
    "# summit_data = union_df[union_df[\"Name\"].isin([\"SUMMIT\"])]\n",
    "\n",
    "# summit_data\n",
    "\n"
   ]
  },
  {
   "cell_type": "code",
   "execution_count": null,
   "metadata": {},
   "outputs": [],
   "source": [
    "# #calling api for clifton \n",
    "# url3=\"https://api.census.gov/data/2016/acs/acs5?get=B01001_001E,B01001A_001E,B01001B_001E,B01001C_001E,B01001D_001E,NAME&for=county%20subdivision:*&in=state:34&in=county:031&key=21f70f51e666e00bb3598a0258e79684470f9ae1\"\n",
    "# response=requests.get(url3)\n",
    "# passaiccountydata=response.json()\n",
    "# # Creating a dataframe\n",
    "# #passaic_df=pd.DataFrame(passaiccountydata)\n",
    "# passaic_df = pd.DataFrame(columns=passaiccountydata[0],data=passaiccountydata[1:])\n",
    "\n",
    "# #Renaming columns\n",
    "# passaic_df=passaic_df.rename(columns={\"B01001_001E\":\"Total Population\",\n",
    "#                                     \"B01001A_001E\":\"White Alone\",\n",
    "#                                     \"B01001B_001E\":\"African American Alone\",\n",
    "#                                     \"B01001D_001E\":\"Asian Alone\",\n",
    "#                                     \"B01001C_001E\":\"Some Other Race\",\"NAME\":\"Name\"})\n",
    "# #To get the first part of the Name column\n",
    "# passaic_df[\"Name\"] = passaic_df[\"Name\"].apply(lambda x: x.split()[0].upper())\n",
    "# #To get the Clifton row\n",
    "# clifton_data = passaic_df[passaic_df[\"Name\"].isin([\"CLIFTON\"])]\n",
    "\n",
    "# clifton_data\n",
    "\n"
   ]
  },
  {
   "cell_type": "code",
   "execution_count": null,
   "metadata": {},
   "outputs": [],
   "source": [
    "# #caliing api for hudson\n",
    "# url4=\"https://api.census.gov/data/2016/acs/acs5?get=B01001_001E,B01001A_001E,B01001B_001E,B01001C_001E,B01001D_001E,NAME&for=county%20subdivision:*&in=state:34&in=county:017&key=21f70f51e666e00bb3598a0258e79684470f9ae1\"\n",
    "# response=requests.get(url4)\n",
    "# hudsoncountydata=response.json()\n",
    "# # Creating a dataframe\n",
    "# #hudson_df=pd.DataFrame(hudsoncountydata)\n",
    "# hudson_df = pd.DataFrame(columns=hudsoncountydata[0],data=hudsoncountydata[1:])\n",
    "\n",
    "# #Renaming columns\n",
    "# hudson_df=hudson_df.rename(columns={\"B01001_001E\":\"Total Population\",\n",
    "#                                     \"B01001A_001E\":\"White Alone\",\n",
    "#                                     \"B01001B_001E\":\"African American Alone\",\n",
    "#                                     \"B01001D_001E\":\"Asian Alone\",\n",
    "#                                     \"B01001C_001E\":\"Some Other Race\",\"NAME\":\"Name\"})\n",
    "# #To get the first part of the Name column\n",
    "# hudson_df[\"Name\"] = hudson_df[\"Name\"].apply(lambda x: x.split()[0].replace(',', '').upper())\n",
    "# #To get the Hoboken row\n",
    "# hoboken_data = hudson_df[hudson_df[\"Name\"].isin([\"HOBOKEN\"])]\n",
    "\n",
    "# hoboken_data\n",
    "\n",
    "\n"
   ]
  },
  {
   "cell_type": "code",
   "execution_count": null,
   "metadata": {},
   "outputs": [],
   "source": [
    "# #calling api for Bridgeton\n",
    "# url5=\"https://api.census.gov/data/2016/acs/acs5?get=B01001_001E,B01001A_001E,B01001B_001E,B01001C_001E,B01001D_001E,NAME&for=county%20subdivision:*&in=state:34&in=county:011&key=21f70f51e666e00bb3598a0258e79684470f9ae1\"\n",
    "# response=requests.get(url5)\n",
    "# cumberlandcountydata=response.json()\n",
    "# # Creating a dataframe\n",
    "# #cumberland_df=pd.DataFrame(cumberlandcountydata)\n",
    "# cumberland_df = pd.DataFrame(columns=cumberlandcountydata[0],data=cumberlandcountydata[1:])\n",
    "\n",
    "# #Renaming columns\n",
    "# cumberland_df=cumberland_df.rename(columns={\"B01001_001E\":\"Total Population\",\n",
    "#                                     \"B01001A_001E\":\"White Alone\",\n",
    "#                                     \"B01001B_001E\":\"African American Alone\",\n",
    "#                                     \"B01001D_001E\":\"Asian Alone\",\n",
    "#                                     \"B01001C_001E\":\"Some Other Race\",\"NAME\":\"Name\"})\n",
    "# #To get the first part of the Name column\n",
    "# cumberland_df[\"Name\"] = cumberland_df[\"Name\"].apply(lambda x: x.split()[0].replace(',', '').upper())\n",
    "# #To get the Bridgeton row\n",
    "# bridgeton_data = cumberland_df[cumberland_df[\"Name\"].isin([\"BRIDGETON\"])]\n",
    "\n",
    "# bridgeton_data \n",
    "\n"
   ]
  },
  {
   "cell_type": "code",
   "execution_count": null,
   "metadata": {},
   "outputs": [],
   "source": [
    "# #Combine princeton_data,summit_data,clifton_data,hoboken_data and bridgeton_data\n",
    "# demographic_data = princeton_data.append(summit_data).append(clifton_data).append(hoboken_data).append(bridgeton_data)\n",
    "# demographic_data=demographic_data.rename(columns={\"Name\":\"City\"})\n",
    "# demographic_data"
   ]
  },
  {
   "cell_type": "code",
   "execution_count": null,
   "metadata": {},
   "outputs": [],
   "source": [
    "#To read pop_grad data\n",
    "pop_grad_data_to_load = \"pop_grad_data.csv\"\n",
    "pop_grad_data = pd.read_csv(pop_grad_data_to_load)\n",
    "pop_grad_data=pop_grad_data.rename(columns={\"DISTRICT_NAME_left\":\"City\",\n",
    "                                            \"GRAD_RATE\":\"Graduation_rate\"})\n",
    "pop_grad_data"
   ]
  },
  {
   "cell_type": "code",
   "execution_count": null,
   "metadata": {},
   "outputs": [],
   "source": [
    "#Join Demographic and GradRate\n",
    "demo_grad_data = pop_grad_data.set_index([\"City\"])\n",
    "demo_grad_data\n"
   ]
  },
  {
   "cell_type": "code",
   "execution_count": null,
   "metadata": {
    "scrolled": true
   },
   "outputs": [],
   "source": [
    "# #Select the coloumns we need\n",
    "# combined_demo_grad_data = combined_demo_grad_data[['Year','Graduation_rate','Population','Total Population',\n",
    "#                                                   'White Alone','African American Alone','Some Other Race',\n",
    "#                                                   'Asian Alone']].copy()\n",
    "# combined_demo_grad_data\n"
   ]
  },
  {
   "cell_type": "code",
   "execution_count": null,
   "metadata": {},
   "outputs": [],
   "source": [
    "# #To convert to float\n",
    "# combined_demo_grad_data[\"White Alone\"]= combined_demo_grad_data[\"White Alone\"].apply(lambda x: float(x))\n",
    "# combined_demo_grad_data[\"African American Alone\"]= combined_demo_grad_data[\"African American Alone\"].apply(lambda x: float(x))\n",
    "# combined_demo_grad_data[\"Some Other Race\"]= combined_demo_grad_data[\"Some Other Race\"].apply(lambda x: float(x))\n",
    "# combined_demo_grad_data[\"Asian Alone\"]= combined_demo_grad_data[\"Asian Alone\"].apply(lambda x: float(x)).copy()\n",
    "# combined_demo_grad_data[\"Total Population\"]= combined_demo_grad_data[\"Total Population\"].apply(lambda x: float(x))\n",
    "# #To get the percentage value for the race \n",
    "# combined_demo_grad_data['White_percent']= combined_demo_grad_data['White Alone'] /\\\n",
    "# combined_demo_grad_data[\"Total Population\"] * 100\n",
    "# combined_demo_grad_data['African_American_percent']= combined_demo_grad_data['African American Alone'] /\\\n",
    "# combined_demo_grad_data[\"Total Population\"] * 100\n",
    "# combined_demo_grad_data['Other_Race_percent']= combined_demo_grad_data['Some Other Race'] /\\\n",
    "# combined_demo_grad_data[\"Total Population\"] * 100\n",
    "# combined_demo_grad_data['Asian_percent']= combined_demo_grad_data['Asian Alone'] /\\\n",
    "# combined_demo_grad_data[\"Total Population\"] * 100\n",
    "\n",
    "# #To sort\n",
    "# combined_demo_grad_data =combined_demo_grad_data.sort_values(by='City', ascending=False)\n",
    "\n",
    "# combined_demo_grad_data.to_csv(\"demo.csv\")\n",
    "# combined_demo_grad_data\n"
   ]
  },
  {
   "cell_type": "code",
   "execution_count": null,
   "metadata": {},
   "outputs": [],
   "source": [
    "# combined_demo_grad_data = combined_demo_grad_data[[\"Graduation_rate\",\"Population\",\"White_percent\",\n",
    "#                                                     \"African_American_percent\",\"Other_Race_percent\",\"Asian_percent\"]]\n",
    "# combined_demo_grad_data"
   ]
  },
  {
   "cell_type": "code",
   "execution_count": null,
   "metadata": {},
   "outputs": [],
   "source": [
    "#Plot Grad Rate vs Demographic(White %)\n",
    "ax = demo_grad_data.plot.bar(x=\"City\",y=\"Graduation_rate\",legend=False)\n",
    "for i, label in enumerate(list(demo_grad_data.index)):\n",
    "    ax.annotate(label.lower(),(i, 20),ha=\"left\",rotation=90)\n",
    "\n",
    "# plt.title(\"Graduation Rate and Demographic(White %)\")\n",
    "# plt.ylabel(\"White %\")\n",
    "# plt.xlabel(\"Graduation Rate\")\n",
    "plt.xticks(rotation=45)"
   ]
  },
  {
   "cell_type": "code",
   "execution_count": null,
   "metadata": {},
   "outputs": [],
   "source": []
  },
  {
   "cell_type": "code",
   "execution_count": null,
   "metadata": {},
   "outputs": [],
   "source": []
  },
  {
   "cell_type": "code",
   "execution_count": null,
   "metadata": {},
   "outputs": [],
   "source": [
    "\n"
   ]
  },
  {
   "cell_type": "code",
   "execution_count": null,
   "metadata": {},
   "outputs": [],
   "source": []
  },
  {
   "cell_type": "code",
   "execution_count": null,
   "metadata": {},
   "outputs": [],
   "source": []
  }
 ],
 "metadata": {
  "kernelspec": {
   "display_name": "Python 3",
   "language": "python",
   "name": "python3"
  },
  "language_info": {
   "codemirror_mode": {
    "name": "ipython",
    "version": 3
   },
   "file_extension": ".py",
   "mimetype": "text/x-python",
   "name": "python",
   "nbconvert_exporter": "python",
   "pygments_lexer": "ipython3",
   "version": "3.7.0"
  }
 },
 "nbformat": 4,
 "nbformat_minor": 2
}
